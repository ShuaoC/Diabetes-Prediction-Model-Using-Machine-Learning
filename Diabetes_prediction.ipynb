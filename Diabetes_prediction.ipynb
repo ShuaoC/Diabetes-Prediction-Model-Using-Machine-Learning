{
 "cells": [
  {
   "cell_type": "code",
   "execution_count": 70,
   "id": "8c70a403",
   "metadata": {
    "scrolled": true
   },
   "outputs": [],
   "source": [
    "import pandas as pd\n",
    "from sklearn.tree import DecisionTreeClassifier\n",
    "from sklearn.model_selection import train_test_split\n",
    "from sklearn.metrics import accuracy_score\n",
    "from sklearn import tree\n",
    "import joblib\n",
    "import numpy as np\n",
    "\n",
    "diabete_data = pd.read_csv('diabete_data.csv')\n",
    "input_data = diabete_data.drop(columns=['diabetes'])\n",
    "output_data = diabete_data['diabetes']\n",
    "input_data_train, input_data_test, output_data_train, output_data_test = train_test_split(input_data, output_data, test_size=0.2)\n",
    "\n",
    "model = DecisionTreeClassifier()\n",
    "model.fit(input_data_train.values, output_data_train.values)\n",
    "\n",
    "tree.export_graphviz(model, out_file = 'diabetes_prediction.dot',\n",
    "                    feature_names=['gender','age','hypertension',\n",
    "                                 'heart_disease','smoking_history',\n",
    "                                 'bmi','HbA1c_level','blood_glucose_level'],\n",
    "                    class_names=sorted(np.array(output_data.unique()).astype('str').tolist()),\n",
    "                    label='all',\n",
    "                    rounded=True,\n",
    "                    filled=True)\n",
    "\n",
    "# prediction = model.predict(input_data_test)\n",
    "\n",
    "# joblib.dump(model, 'Diabetes_prediction.joblib')\n",
    "\n",
    "# score = accuracy_score(output_data_test, prediction)\n",
    "# score"
   ]
  },
  {
   "cell_type": "code",
   "execution_count": null,
   "id": "ec98d90b",
   "metadata": {},
   "outputs": [],
   "source": []
  }
 ],
 "metadata": {
  "kernelspec": {
   "display_name": "Python 3 (ipykernel)",
   "language": "python",
   "name": "python3"
  },
  "language_info": {
   "codemirror_mode": {
    "name": "ipython",
    "version": 3
   },
   "file_extension": ".py",
   "mimetype": "text/x-python",
   "name": "python",
   "nbconvert_exporter": "python",
   "pygments_lexer": "ipython3",
   "version": "3.10.9"
  }
 },
 "nbformat": 4,
 "nbformat_minor": 5
}
